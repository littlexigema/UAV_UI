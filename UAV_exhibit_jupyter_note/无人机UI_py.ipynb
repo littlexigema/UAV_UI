{
 "cells": [
  {
   "cell_type": "markdown",
   "id": "92eef3bc",
   "metadata": {},
   "source": [
    "# 无人机UI.py 介绍\n",
    "## 代码讲解"
   ]
  },
  {
   "cell_type": "code",
   "execution_count": 9,
   "id": "59130fb3",
   "metadata": {},
   "outputs": [],
   "source": [
    "import sys\n",
    "import json\n",
    "from multiprocessing import Process,Manager\n",
    "\n",
    "sys.path.append(\"/home/gsr/code_save/qt\")\n"
   ]
  },
  {
   "cell_type": "markdown",
   "id": "7bfeb01f",
   "metadata": {},
   "source": [
    "**sys.path.append()**参数填入代码存放路径"
   ]
  },
  {
   "cell_type": "code",
   "execution_count": 10,
   "id": "15b35abf",
   "metadata": {},
   "outputs": [],
   "source": [
    "from Ui_无人机登录界面i import *\n",
    "from Ui_无人机二级界面_改 import *\n",
    "from PyQt5.QtWidgets import QApplication,QMainWindow,QMessageBox,QButtonGroup,QPushButton\n",
    "from PyQt5.QtCore import Qt\n",
    "from pre_run import *\n",
    "\n",
    "\n",
    "\n",
    "#------------带添加，根据state读取不同lineedit中的内容，实现不同账号登录\n",
    "#sh文件改进，判断哪些pyton文件结束并修改json文件内容\n",
    "#在登录后，根据不同的登录角色更新json内容，value为0表示leader,1表示簇头，2表示普通无人机\n",
    "#InterfaceWindow中的choose_name一定是无人机原本的名字，并不是按钮名称，在左侧按钮点击响应函数中已经将按钮名称转换为无人机名称\n",
    "\n",
    "\n",
    "path_json_online='temporary_save'\n",
    "path_json_communicate='communication'\n",
    "path_json_verify='verify'"
   ]
  },
  {
   "cell_type": "code",
   "execution_count": 11,
   "id": "88885d57",
   "metadata": {},
   "outputs": [],
   "source": [
    "def get_dic_from_json(path)->dict:#从json加载字典\n",
    "    with open(path,'r') as file:\n",
    "        tmp=json.load(file)\n",
    "        print(tmp)\n",
    "        return tmp\n",
    "\n",
    "def save_dic_to_json(path,dic):\n",
    "    with open(path,'w+') as file:\n",
    "        json.dump(dic,file)"
   ]
  },
  {
   "cell_type": "markdown",
   "id": "a9fca220",
   "metadata": {},
   "source": [
    "实现从path中加载字典和存储字典至指定路径"
   ]
  },
  {
   "cell_type": "code",
   "execution_count": null,
   "id": "360d6986",
   "metadata": {},
   "outputs": [],
   "source": []
  }
 ],
 "metadata": {
  "kernelspec": {
   "display_name": "Python 3 (ipykernel)",
   "language": "python",
   "name": "python3"
  },
  "language_info": {
   "codemirror_mode": {
    "name": "ipython",
    "version": 3
   },
   "file_extension": ".py",
   "mimetype": "text/x-python",
   "name": "python",
   "nbconvert_exporter": "python",
   "pygments_lexer": "ipython3",
   "version": "3.8.10"
  }
 },
 "nbformat": 4,
 "nbformat_minor": 5
}
