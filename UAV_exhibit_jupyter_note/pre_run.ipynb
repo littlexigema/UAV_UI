{
 "cells": [
  {
   "cell_type": "markdown",
   "id": "47412e4e",
   "metadata": {},
   "source": [
    "# pre_run.py介绍  \n",
    "## 代码说明"
   ]
  },
  {
   "cell_type": "code",
   "execution_count": 1,
   "id": "de647338",
   "metadata": {},
   "outputs": [],
   "source": [
    "import json\n",
    "\n",
    "def main():\n",
    "    dic={}\n",
    "    with open('temporary_save','w') as file_obj:\n",
    "        json.dump(dic,file_obj)\n",
    "    with open('communication','w') as file_obj:\n",
    "        json.dump(dic,file_obj)\n",
    "    with open('verify','w') as file_obj:\n",
    "        json.dump(dic,file_obj) \n",
    "\n",
    "if __name__=='__main__':\n",
    "    main()"
   ]
  },
  {
   "cell_type": "markdown",
   "id": "76ba42a2",
   "metadata": {},
   "source": [
    "该程序是run.sh第一个调用的程序，程序运行时创建temporary_save,communication,verify文件，用于无人机UI.py多进程之间的通信。  \n",
    " - **temporary_save**存储内容是一个字典，存储所有无人机的身份，key是无人机的名称，value是int数据，value为0表示身份为控制器，1表示为簇头，2表示无人机。 \n",
    " - **communication**也是一个字典，存储所有无人机包括控制器的全部对话，存储格式为{“发送者名称”:{“接受者名称”:[str_1,str_2...]}}。  \n",
    " - **verify**为字典，存储无人机之间的验证状态，格式为{\"True|False\":{}},key为True表示无人机已经验证。\n"
   ]
  },
  {
   "cell_type": "code",
   "execution_count": null,
   "id": "67006833",
   "metadata": {},
   "outputs": [],
   "source": []
  }
 ],
 "metadata": {
  "kernelspec": {
   "display_name": "Python 3 (ipykernel)",
   "language": "python",
   "name": "python3"
  },
  "language_info": {
   "codemirror_mode": {
    "name": "ipython",
    "version": 3
   },
   "file_extension": ".py",
   "mimetype": "text/x-python",
   "name": "python",
   "nbconvert_exporter": "python",
   "pygments_lexer": "ipython3",
   "version": "3.8.10"
  }
 },
 "nbformat": 4,
 "nbformat_minor": 5
}
