{
 "cells": [
  {
   "cell_type": "markdown",
   "id": "5d2ceecf",
   "metadata": {},
   "source": [
    "# run.sh介绍  \n",
    "## 代码说明"
   ]
  },
  {
   "cell_type": "code",
   "execution_count": 1,
   "id": "6dd51027",
   "metadata": {},
   "outputs": [
    {
     "ename": "SyntaxError",
     "evalue": "invalid syntax (1289787145.py, line 3)",
     "output_type": "error",
     "traceback": [
      "\u001b[0;36m  Input \u001b[0;32mIn [1]\u001b[0;36m\u001b[0m\n\u001b[0;31m    (python3 /home/gsr/code_save/qt/pre_run.py) & (python3 /home/gsr/code_save/qt/无人机UI.py 无人机_1) & (python3 /home/gsr/code_save/qt/无人机UI.py 无人机_2)& (python3 /home/gsr/code_save/qt/无人机UI.py 无人机_3)& (python3 /home/gsr/code_save/qt/无人机UI.py 无人机_4)& (python3 /home/gsr/code_save/qt/无人机UI.py 无人机_5) &(python3 /home/gsr/code_save/qt/无人机UI.py 无人机_6)\u001b[0m\n\u001b[0m                                                                                           ^\u001b[0m\n\u001b[0;31mSyntaxError\u001b[0m\u001b[0;31m:\u001b[0m invalid syntax\n"
     ]
    }
   ],
   "source": [
    "#!/bin/sh\n",
    "\n",
    "(python3 /home/gsr/code_save/qt/pre_run.py) & (python3 /home/gsr/code_save/qt/无人机UI.py 无人机_1) & (python3 /home/gsr/code_save/qt/无人机UI.py 无人机_2)& (python3 /home/gsr/code_save/qt/无人机UI.py 无人机_3)& (python3 /home/gsr/code_save/qt/无人机UI.py 无人机_4)& (python3 /home/gsr/code_save/qt/无人机UI.py 无人机_5) &(python3 /home/gsr/code_save/qt/无人机UI.py 无人机_6)\n",
    "rm /home/gsr/code_save/qt/temporary_save \n",
    "rm /home/gsr/code_save/qt/communication\n",
    "rm /home/gsr/code_save/qt/verify\n"
   ]
  },
  {
   "cell_type": "markdown",
   "id": "66c2ef75",
   "metadata": {},
   "source": [
    "第一行运行pre_run.py，多进程运行无人机UI.py  \n",
    "这些程序终止运行后删除运行中产生的temporary_save,communication,verify文件(运行过程中所产生)  \n",
    "因为本展示软件运行在**Linux**终端上，所以若在**Windows**终端上运行，请先将本脚本改为**bat执行文件**"
   ]
  },
  {
   "cell_type": "code",
   "execution_count": null,
   "id": "305256b3",
   "metadata": {},
   "outputs": [],
   "source": []
  }
 ],
 "metadata": {
  "kernelspec": {
   "display_name": "Python 3 (ipykernel)",
   "language": "python",
   "name": "python3"
  },
  "language_info": {
   "codemirror_mode": {
    "name": "ipython",
    "version": 3
   },
   "file_extension": ".py",
   "mimetype": "text/x-python",
   "name": "python",
   "nbconvert_exporter": "python",
   "pygments_lexer": "ipython3",
   "version": "3.8.10"
  }
 },
 "nbformat": 4,
 "nbformat_minor": 5
}
