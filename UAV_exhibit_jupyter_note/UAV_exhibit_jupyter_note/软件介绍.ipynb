{
 "cells": [
  {
   "cell_type": "markdown",
   "id": "891cbac2",
   "metadata": {},
   "source": [
    "# 关于无人机展示软件的介绍"
   ]
  },
  {
   "cell_type": "markdown",
   "id": "ab10cffa",
   "metadata": {},
   "source": [
    "## 展示软件由以下若干软件组成，点击跳转介绍页面"
   ]
  },
  {
   "cell_type": "markdown",
   "id": "a20ed940",
   "metadata": {},
   "source": [
    " - [run.sh介绍](run_sh.ipynb)  \n",
    " - [pre_run.py介绍](pre_run.ipynb)  \n",
    "3.Ui_无人机登录界面i.py  \n",
    "4.无人机_rc.py  \n",
    "5.无人机UI.py  \n",
    "6.pre_run.py  "
   ]
  },
  {
   "cell_type": "code",
   "execution_count": null,
   "id": "eb3eb7a6",
   "metadata": {},
   "outputs": [],
   "source": []
  }
 ],
 "metadata": {
  "kernelspec": {
   "display_name": "Python 3 (ipykernel)",
   "language": "python",
   "name": "python3"
  },
  "language_info": {
   "codemirror_mode": {
    "name": "ipython",
    "version": 3
   },
   "file_extension": ".py",
   "mimetype": "text/x-python",
   "name": "python",
   "nbconvert_exporter": "python",
   "pygments_lexer": "ipython3",
   "version": "3.8.10"
  }
 },
 "nbformat": 4,
 "nbformat_minor": 5
}
